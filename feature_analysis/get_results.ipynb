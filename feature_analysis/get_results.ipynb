{
 "cells": [
  {
   "cell_type": "code",
   "execution_count": null,
   "metadata": {},
   "outputs": [],
   "source": [
    "import torch\n",
    "\n",
    "\n",
    "def get_results(filename):\n",
    "    accs, _ = torch.load(filename, map_location=\"cpu\")\n",
    "    return round(max([item[1] for item in accs]) * 100, 1)\n",
    "\n",
    "\n",
    "for dataset in [\"flowers\", \"cars\", \"caltech\"]:\n",
    "    for model in [\"llava7b\", \"blip2\"]:\n",
    "        for method in [\"avg\", \"last\"]:\n",
    "            name = f\"{dataset}_{model}_linear_test_{method}.pt\"\n",
    "            print(name)\n",
    "            print(get_results(f\"probe_outputs/{name}\"))\n",
    "\n",
    "for dataset in [\"imagenet\"]:\n",
    "    for model in [\"llava7b\", \"blip2\"]:\n",
    "        for method in [\"avg\", \"last\"]:\n",
    "            name = f\"{dataset}_{model}_linear_valid_{method}.pt\"\n",
    "            print(name)\n",
    "            print(get_results(f\"probe_outputs/{name}\"))"
   ]
  }
 ],
 "metadata": {
  "kernelspec": {
   "display_name": "vlmhf",
   "language": "python",
   "name": "python3"
  },
  "language_info": {
   "codemirror_mode": {
    "name": "ipython",
    "version": 3
   },
   "file_extension": ".py",
   "mimetype": "text/x-python",
   "name": "python",
   "nbconvert_exporter": "python",
   "pygments_lexer": "ipython3",
   "version": "3.10.14"
  }
 },
 "nbformat": 4,
 "nbformat_minor": 2
}
