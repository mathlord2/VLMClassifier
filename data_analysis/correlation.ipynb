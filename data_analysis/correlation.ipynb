{
 "cells": [
  {
   "cell_type": "code",
   "execution_count": null,
   "metadata": {},
   "outputs": [],
   "source": [
    "import json\n",
    "from matplotlib import pyplot as plt\n",
    "import seaborn as sns\n",
    "from scipy.stats import spearmanr, pearsonr\n",
    "\n",
    "plt.rcParams[\"figure.dpi\"] = 300\n",
    "plt.rcParams[\"savefig.dpi\"] = 300\n",
    "sns.set_theme(style=\"whitegrid\")\n",
    "sns.set_context(\"notebook\")  # paper, notebook, talk, and poster\n",
    "\n",
    "\n",
    "def get_accuracy(file_name: str):\n",
    "    data = [json.loads(line) for line in open(file_name)]\n",
    "    accs = []\n",
    "    class_acc = {}\n",
    "    for item in data:\n",
    "        if \"label\" not in item:\n",
    "            item[\"label\"] = (\n",
    "                item[\"question_id\"].split(\"-\")[2]\n",
    "                if \"imagenet\" in file_name\n",
    "                else item[\"question_id\"].split(\"-\")[1]\n",
    "            )\n",
    "        if \"pred\" not in item:\n",
    "            item[\"pred\"] = item[\"text\"]\n",
    "\n",
    "        acc = item[\"label\"].lower() in item[\"pred\"].lower()\n",
    "        class_acc[item[\"label\"]] = class_acc.get(item[\"label\"], []) + [acc]\n",
    "        accs.append(acc)\n",
    "    print(sum(accs) / len(accs), len(accs))\n",
    "\n",
    "    for item in class_acc:\n",
    "        class_acc[item] = sum(class_acc[item]) / len(class_acc[item])\n",
    "\n",
    "    class_acc_sorted = {\n",
    "        k: v\n",
    "        for k, v in sorted(class_acc.items(), key=lambda item: item[1], reverse=True)\n",
    "    }\n",
    "    return class_acc_sorted"
   ]
  },
  {
   "cell_type": "markdown",
   "metadata": {},
   "source": [
    "# Compute Correlation"
   ]
  },
  {
   "cell_type": "code",
   "execution_count": null,
   "metadata": {},
   "outputs": [],
   "source": [
    "dataset = \"imagenet\"\n",
    "\n",
    "class_freq_tuple_pretrain = {\n",
    "    k: v for k, v in json.load(open(f\"../data/tokenized/{dataset}_freq_pretrain.json\"))\n",
    "}\n",
    "class_freq_tuple_instruct = {\n",
    "    k: v for k, v in json.load(open(f\"../data/tokenized/{dataset}_freq_instruct.json\"))\n",
    "}\n",
    "\n",
    "class_freq_tuple = {\n",
    "    k: class_freq_tuple_pretrain.get(k, 0) + class_freq_tuple_instruct.get(k, 0)\n",
    "    for k in class_freq_tuple_pretrain\n",
    "}\n",
    "\n",
    "plt.figure(figsize=(15, 5))\n",
    "class_freq_tuple_new = tuple(\n",
    "    sorted(class_freq_tuple.items(), key=lambda x: x[1], reverse=True)\n",
    ")[:80]\n",
    "plt.bar(\n",
    "    range(len(class_freq_tuple_new)), [x[1] for x in class_freq_tuple_new], color=\"b\"\n",
    ")\n",
    "plt.xticks(\n",
    "    range(len(class_freq_tuple_new)),\n",
    "    [x[0] for x in class_freq_tuple_new],\n",
    "    rotation=90,\n",
    "    fontsize=8,\n",
    ")\n",
    "plt.ylabel(\"Frequency\")\n",
    "plt.xlabel(\"Class\")\n",
    "\n",
    "class_acc_sorted = get_accuracy(f\"../main_results/outputs/{dataset}_llava7b.jsonl\")\n",
    "# class_acc_sorted = get_accuracy(f\"../main_results/outputs/{dataset}_clipvitl336_1000classes.jsonl\")\n",
    "\n",
    "xs, ys = [], []\n",
    "for key in class_acc_sorted:\n",
    "    xs.append(class_freq_tuple.get(key.lower(), 0))\n",
    "    ys.append(class_acc_sorted[key])\n",
    "\n",
    "print(spearmanr(xs, ys), pearsonr(xs, ys))"
   ]
  },
  {
   "cell_type": "markdown",
   "metadata": {},
   "source": [
    "# Draw Correlation"
   ]
  },
  {
   "cell_type": "code",
   "execution_count": null,
   "metadata": {},
   "outputs": [],
   "source": [
    "from matplotlib import pyplot as plt\n",
    "\n",
    "plt.figure(figsize=(15, 3))\n",
    "\n",
    "bins = [0, 10, 20, 30, 40, 50, 60, 70, 80, 90, 100, 1000, 10000, 100000]\n",
    "ys_bins = [[] for _ in range(len(bins) - 1)]\n",
    "for x, y in zip(xs, ys):\n",
    "    for i in range(len(bins) - 1):\n",
    "        if bins[i] <= x < bins[i + 1]:\n",
    "            ys_bins[i].append(y)\n",
    "            break\n",
    "\n",
    "n_classes = [len(ys_bin) for ys_bin in ys_bins]\n",
    "ys_bins = [sum(ys_bin) / (len(ys_bin) + 1e-3) for ys_bin in ys_bins]\n",
    "\n",
    "plt.plot(range(len(ys_bins)), ys_bins, marker=\"o\")\n",
    "plt.xticks(\n",
    "    range(len(ys_bins)),\n",
    "    [f\"[{bins[i]}, {bins[i+1]}) ({n_classes[i]} classes)\" for i in range(len(ys_bins))],\n",
    "    rotation=45,\n",
    ")\n",
    "plt.xlabel(\"Frequency\")\n",
    "plt.ylabel(\"Accuracy\")"
   ]
  }
 ],
 "metadata": {
  "kernelspec": {
   "display_name": "vlmhf",
   "language": "python",
   "name": "python3"
  },
  "language_info": {
   "codemirror_mode": {
    "name": "ipython",
    "version": 3
   },
   "file_extension": ".py",
   "mimetype": "text/x-python",
   "name": "python",
   "nbconvert_exporter": "python",
   "pygments_lexer": "ipython3",
   "version": "3.10.14"
  }
 },
 "nbformat": 4,
 "nbformat_minor": 2
}
