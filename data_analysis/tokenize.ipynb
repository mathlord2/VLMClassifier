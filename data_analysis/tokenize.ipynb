{
 "cells": [
  {
   "cell_type": "code",
   "execution_count": null,
   "metadata": {},
   "outputs": [],
   "source": [
    "import json\n",
    "from nltk import word_tokenize\n",
    "from tqdm import tqdm\n",
    "from collections import defaultdict\n",
    "\n",
    "\n",
    "def is_sublist(smaller, larger):\n",
    "    larger_str = \"##\".join(larger)\n",
    "    smaller_str = \"##\".join(smaller)\n",
    "    return \"##\" + smaller_str + \"##\" in larger_str"
   ]
  },
  {
   "cell_type": "markdown",
   "metadata": {},
   "source": [
    "# LLaVA Pretrain"
   ]
  },
  {
   "cell_type": "code",
   "execution_count": null,
   "metadata": {},
   "outputs": [],
   "source": [
    "dataset = \"cars\"\n",
    "sentences = json.load(open(\"../data/tokenized/tokenized_sentences_pretrain.json\"))\n",
    "classnames = [\n",
    "    word_tokenize(item.lower())\n",
    "    for item in json.load(open(f\"../data/{dataset}_classes.json\"))\n",
    "]\n",
    "\n",
    "class_freq = defaultdict(int)\n",
    "for sent in tqdm(sentences):\n",
    "    for cls in classnames:\n",
    "        if is_sublist(cls, sent):  # cls in sent:\n",
    "            class_freq[\" \".join(cls)] += 1\n",
    "\n",
    "class_freq_tuple = sorted([(k, v) for k, v in class_freq.items()], key=lambda x: -x[1])\n",
    "json.dump(\n",
    "    class_freq_tuple, open(f\"../data/tokenized/{dataset}_freq_pretrain.json\", \"w\")\n",
    ")"
   ]
  },
  {
   "cell_type": "markdown",
   "metadata": {},
   "source": [
    "# LLaVA Instruct"
   ]
  },
  {
   "cell_type": "code",
   "execution_count": null,
   "metadata": {},
   "outputs": [],
   "source": [
    "dataset = \"cars\"\n",
    "sentences = json.load(open(\"../data/tokenized/tokenized_sentences_instruct.json\"))\n",
    "classnames = [\n",
    "    word_tokenize(item.lower())\n",
    "    for item in json.load(open(f\"../data/{dataset}_classes.json\"))\n",
    "]\n",
    "\n",
    "class_freq = defaultdict(int)\n",
    "for sent in tqdm(sentences):\n",
    "    for cls in classnames:\n",
    "        if is_sublist(cls, sent):  # cls in sent:\n",
    "            class_freq[\" \".join(cls)] += 1\n",
    "\n",
    "class_freq_tuple = sorted([(k, v) for k, v in class_freq.items()], key=lambda x: -x[1])\n",
    "json.dump(\n",
    "    class_freq_tuple, open(f\"../data/tokenized/{dataset}_freq_instruct.json\", \"w\")\n",
    ")"
   ]
  }
 ],
 "metadata": {
  "kernelspec": {
   "display_name": "vlmhf",
   "language": "python",
   "name": "python3"
  },
  "language_info": {
   "codemirror_mode": {
    "name": "ipython",
    "version": 3
   },
   "file_extension": ".py",
   "mimetype": "text/x-python",
   "name": "python",
   "nbconvert_exporter": "python",
   "pygments_lexer": "ipython3",
   "version": "3.10.14"
  }
 },
 "nbformat": 4,
 "nbformat_minor": 2
}
